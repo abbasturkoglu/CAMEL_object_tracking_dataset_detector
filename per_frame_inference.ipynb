{
 "cells": [
  {
   "cell_type": "code",
   "execution_count": null,
   "metadata": {},
   "outputs": [],
   "source": [
    "import cv2\n",
    "from detector.detector import make_detections_on_image_stream, get_fasterrcnn_model#, get_transform\n",
    "\n",
    "model = get_fasterrcnn_model()\n",
    "make_detections_on_image_stream('project.mp4', model)"
   ]
  },
  {
   "cell_type": "code",
   "execution_count": null,
   "metadata": {},
   "outputs": [],
   "source": [
    "# def get_frames_from_video(path):\n",
    "    \n",
    "#     # Path to video file \n",
    "#     vidObj = cv2.VideoCapture(path) \n",
    "  \n",
    "#     # Used as counter variable \n",
    "#     count = 0\n",
    "  \n",
    "#     # checks whether frames were extracted \n",
    "#     success = 1\n",
    "  \n",
    "#     # out = cv2.VideoWriter('bar.mp4',cv2.VideoWriter_fourcc(*'mp4v'), 15, size)\n",
    "\n",
    "#     while success: \n",
    "  \n",
    "#         # vidObj object calls read \n",
    "#         # function extract frames \n",
    "#         success, image = vidObj.read() \n",
    "        \n",
    "#         # out.write(image)\n",
    "\n",
    "#get_frames_from_video('project.mp4')\n",
    "\n",
    "\n",
    "# import os\n",
    "# from PIL import Image\n",
    "\n",
    "# transform = get_transform(False)\n",
    "# img = Image.open('./data/sequence-1/img1/000608.jpg').convert(\"RGB\")\n",
    "# image_tensor = transform(img, {})\n",
    "# image_tensor = image_tensor[0].unsqueeze(0).float()\n",
    "\n",
    "# model(image_tensor)"
   ]
  }
 ],
 "metadata": {
  "kernelspec": {
   "display_name": "Python 3",
   "language": "python",
   "name": "python3"
  },
  "language_info": {
   "codemirror_mode": {
    "name": "ipython",
    "version": 3
   },
   "file_extension": ".py",
   "mimetype": "text/x-python",
   "name": "python",
   "nbconvert_exporter": "python",
   "pygments_lexer": "ipython3",
   "version": "3.8.3"
  }
 },
 "nbformat": 4,
 "nbformat_minor": 4
}
