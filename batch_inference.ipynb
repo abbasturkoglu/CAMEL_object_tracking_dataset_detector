{
 "cells": [
  {
   "cell_type": "code",
   "execution_count": 1,
   "metadata": {},
   "outputs": [
    {
     "name": "stdout",
     "output_type": "stream",
     "text": [
      "images_processed:  4\n",
      "images_processed:  8\n",
      "images_processed:  12\n",
      "images_processed:  15\n"
     ]
    }
   ],
   "source": [
    "from detector.detector import get_fasterrcnn_model, get_transform, make_detections_on_test_set\n",
    "from detector.dataset import PeopleDataset\n",
    "\n",
    "model = get_fasterrcnn_model()\n",
    "model.eval()\n",
    "sequences_to_evaluate = ['sequence-1']\n",
    "dataset = PeopleDataset(None, data_root='./data')\n",
    "_, dataset_test = dataset.train_test_split(0.99)\n",
    "#train_dataset.transforms = get_transform(train=True)\n",
    "dataset_test.transforms = get_transform(train=False)\n",
    "make_detections_on_test_set(model, dataset_test, sequences_to_evaluate, shuffle=False)"
   ]
  }
 ],
 "metadata": {
  "kernelspec": {
   "display_name": "Python 3",
   "language": "python",
   "name": "python3"
  },
  "language_info": {
   "codemirror_mode": {
    "name": "ipython",
    "version": 3
   },
   "file_extension": ".py",
   "mimetype": "text/x-python",
   "name": "python",
   "nbconvert_exporter": "python",
   "pygments_lexer": "ipython3",
   "version": "3.8.3"
  }
 },
 "nbformat": 4,
 "nbformat_minor": 4
}
